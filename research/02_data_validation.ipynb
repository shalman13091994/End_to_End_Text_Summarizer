{
 "cells": [
  {
   "cell_type": "code",
   "execution_count": 7,
   "metadata": {},
   "outputs": [],
   "source": [
    "from pathlib import Path\n",
    "from textSummarizer.constants import *\n",
    "from textSummarizer.entity import DataValidationConfig\n",
    "\n",
    "from textSummarizer.utils.common import read_yaml, create_directories, get_size"
   ]
  },
  {
   "cell_type": "code",
   "execution_count": 18,
   "metadata": {},
   "outputs": [],
   "source": [
    "class ConfigurationManager:\n",
    "    def __init__(self, config_file_path = CONFIG_FILE_PATH, config_params_path = PARAMS_FILE_PATH):\n",
    "\n",
    "      self.config =   read_yaml(config_file_path)\n",
    "      self.params = read_yaml(config_params_path)\n",
    "\n",
    "      create_directories([self.config.artifacts_root])\n",
    "\n",
    "\n",
    "\n",
    "    def get_data_validation_config(self) -> DataValidationConfig:\n",
    "        \n",
    "        # calling the DataIngestionConfig class and its variables here\n",
    "       \n",
    "        config =   self.config.data_validation #from config.yaml\n",
    "\n",
    "        create_directories([config.root_dir]) #from config.yaml\n",
    "        \n",
    "        data_valid_config = DataValidationConfig(\n",
    "           \n",
    "        root_dir = config.root_dir,\n",
    "        STATUS_FILE = config.STATUS_FILE,\n",
    "        ALL_REQUIRED_FILES =  config.ALL_REQUIRED_FILES\n",
    "        )\n",
    "\n",
    "        return data_valid_config\n",
    "        \n",
    "        "
   ]
  },
  {
   "cell_type": "markdown",
   "metadata": {},
   "source": [
    "# valid the dataset if it s in the artificats folder"
   ]
  },
  {
   "cell_type": "code",
   "execution_count": 76,
   "metadata": {},
   "outputs": [],
   "source": [
    "import os\n",
    "from textSummarizer.logging import logger\n",
    "\n",
    "class DataValidation:\n",
    "    \n",
    "    def __init__(self,  config: DataValidationConfig):\n",
    "       self.config = config\n",
    "       print(\"root dir\", self.config.root_dir)\n",
    "\n",
    "    \n",
    "    def validate_all_files_exist(self) -> bool:\n",
    "        validation_status = True\n",
    "        data_dir = os.path.join(\"artifacts\", \"data_ingestion\") # here can't add the file\n",
    "\n",
    "         # Hardcoded list of required files\n",
    "        required_files = [\"samsum-test.csv\"]\n",
    "\n",
    "        for expected_file in required_files:\n",
    "            file_path = os.path.join(data_dir, expected_file)\n",
    "\n",
    "            if not os.path.isfile(file_path):\n",
    "                validation_status = False\n",
    "                logger.warning(f\"Missing required file: {file_path}\")\n",
    "                break\n",
    "\n",
    "        # Save status to file\n",
    "        with open(self.config.STATUS_FILE, \"w\") as f:\n",
    "            f.write(f\"Validation status: {validation_status}\")\n",
    "\n",
    "        logger.info(f\"File validation status: {validation_status} in directory {data_dir}\")\n",
    "        return validation_status\n",
    "\n",
    "            \n"
   ]
  },
  {
   "cell_type": "code",
   "execution_count": 77,
   "metadata": {},
   "outputs": [
    {
     "name": "stdout",
     "output_type": "stream",
     "text": [
      "[2025-04-25 20:10:59,198: INFO: common: created directory at: artifacts]\n",
      "[2025-04-25 20:10:59,201: INFO: common: created directory at: artifacts/data_validation]\n",
      "root dir artifacts/data_validation\n",
      "[2025-04-25 20:10:59,206: INFO: 3959796752: File validation status: True in directory artifacts\\data_ingestion]\n"
     ]
    },
    {
     "data": {
      "text/plain": [
       "True"
      ]
     },
     "execution_count": 77,
     "metadata": {},
     "output_type": "execute_result"
    }
   ],
   "source": [
    "config_manager = ConfigurationManager()\n",
    "config = config_manager.get_data_validation_config()\n",
    "\n",
    "data_validation = DataValidation(config=config)\n",
    "data_validation.validate_all_files_exist()\n"
   ]
  },
  {
   "cell_type": "code",
   "execution_count": null,
   "metadata": {},
   "outputs": [],
   "source": []
  }
 ],
 "metadata": {
  "kernelspec": {
   "display_name": "venv",
   "language": "python",
   "name": "python3"
  },
  "language_info": {
   "codemirror_mode": {
    "name": "ipython",
    "version": 3
   },
   "file_extension": ".py",
   "mimetype": "text/x-python",
   "name": "python",
   "nbconvert_exporter": "python",
   "pygments_lexer": "ipython3",
   "version": "3.9.0"
  }
 },
 "nbformat": 4,
 "nbformat_minor": 2
}
