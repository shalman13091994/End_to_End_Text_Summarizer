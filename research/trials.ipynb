{
 "cells": [
  {
   "cell_type": "code",
   "execution_count": 9,
   "metadata": {},
   "outputs": [],
   "source": [
    "from pathlib import Path\n",
    "from box import ConfigBox  # to access dictionary keys like attributes\n",
    "import yaml\n",
    "from ensure import ensure_annotations\n",
    "import os"
   ]
  },
  {
   "cell_type": "code",
   "execution_count": 8,
   "metadata": {},
   "outputs": [
    {
     "name": "stdout",
     "output_type": "stream",
     "text": [
      "{'artificats_root': 'artificats', 'data_ingestion': {'root_dir': 'artifacts/data_ingestion', 'source_URL': 'https://drive.google.com/file/d/16RZa3YHx0rrTSp_JbNfF0Gz3TrqcGwkr/view?usp=drive_link', 'local_data_file': 'artifacts/data_ingestion/data.csv', 'unzip_dir': ''}, 'data_validation': {'root_dir': 'artificats/data_validation', 'STATUS_FILE': 'artificats/data_validation/status.txt', 'ALL_REQUIRED_FILES': ['train', 'test', 'validation']}, 'data_transformation': {'root_dir': 'artificats/data_transformation', 'data_path': 'artificats/data_ingestion/samsun_dataset', 'tokenizer_name': 'google/pegasus-cnn_dailymail'}, 'model_trainer': {'root_dir': 'artificats/model_trainer', 'data_path': 'artificats/data_transformation/samsun_dataset', 'model_ckpt': 'google/pegasus-cnn_dailymail'}, 'model_evaluation': {'root_dir': 'artificats/model_evaluation', 'data_path': 'artificats/data_ingestion/samsun_dataset', 'model_path': 'artificats/model_trainer/pegasus-samsun-model', 'tokenizer_path': 'artificats/model_trainer/tokenizer', 'metric_file_name': 'artificats/model_evaluation/metrics.csv'}}\n"
     ]
    }
   ],
   "source": [
    "@ensure_annotations\n",
    "def read_yaml(path_to_yaml: Path) -> ConfigBox: \n",
    "    with open(path_to_yaml) as f:\n",
    "       content =  yaml.safe_load(f)\n",
    "       \n",
    "    return ConfigBox(content)\n",
    "\n",
    "config = read_yaml(Path(r'D:\\Datascience\\DL\\DL Projects\\End_to_End_Text_Summarizer\\config\\config.yaml'))\n",
    "\n",
    "print(config)  # Optional: See the parsed config\n"
   ]
  },
  {
   "cell_type": "code",
   "execution_count": null,
   "metadata": {},
   "outputs": [],
   "source": [
    "\n",
    "def create_dictionaries(path_to_dictionaries:list, verbose=True):\n",
    "\n",
    "    for path in create_dictionaries:\n",
    "        os.makedirs(path, exist_ok=True)\n",
    "        if verbose:\n",
    "           print(f'file created at -- {Path}')"
   ]
  },
  {
   "cell_type": "code",
   "execution_count": null,
   "metadata": {},
   "outputs": [],
   "source": [
    "\n",
    "\n",
    "def get_size(path:Path) -> str:\n",
    "\n",
    "    #get size in kb\n",
    "    size_in_kb = (os.path.getsize(path)/1024)\n",
    "    print(f\"file size {size_in_kb}\")"
   ]
  },
  {
   "cell_type": "code",
   "execution_count": null,
   "metadata": {},
   "outputs": [],
   "source": [
    "\n",
    "# data_ingestion:\n",
    "#   root_dir: artifacts/data_ingestion\n",
    "#   source_URL: https://drive.google.com/file/d/16RZa3YHx0rrTSp_JbNfF0Gz3TrqcGwkr/view?usp=drive_link\n",
    "#   local_data_file: artifacts/data_ingestion/data.csv  # or whatever the file type is\n",
    "#   unzip_dir: \"\"  # leave blank or remove if not unzipping\n",
    "\n",
    "\n",
    "# data_validation:\n",
    "#   root_dir: artificats/data_validation\n",
    "#   STATUS_FILE: artificats/data_validation/status.txt\n",
    "#   ALL_REQUIRED_FILES: ['train', 'test', 'validation']\n",
    "\n",
    "\n",
    "# data_transformation:\n",
    "#    root_dir: artificats/data_transformation\n",
    "#    data_path: artificats/data_ingestion/samsun_dataset\n",
    "#    tokenizer_name: google/pegasus-cnn_dailymail # to create abstract \n",
    "\n",
    "\n",
    "# model_trainer:\n",
    "#    root_dir: artificats/model_trainer\n",
    "#    data_path: artificats/data_transformation/samsun_dataset\n",
    "#    model_ckpt: google/pegasus-cnn_dailymail \n",
    "\n",
    "\n",
    "# model_evaluation:\n",
    "#   root_dir: artificats/model_evaluation\n",
    "#   data_path: artificats/data_ingestion/samsun_dataset\n",
    "#   model_path: artificats/model_trainer/pegasus-samsun-model\n",
    "#   tokenizer_path: artificats/model_trainer/tokenizer\n",
    "#   metric_file_name: artificats/model_evaluation/metrics.csv\n",
    "\n",
    "\n",
    "\n",
    "from pathlib import Path\n",
    "from dataclasses import dataclass\n",
    "\n",
    "@dataclass(frozen=True)\n",
    "class DataIngestionConfig:\n",
    "    root_dir:Path\n",
    "    source_URL: str\n",
    "    local_data_file: Path\n",
    "    unzip_dir: Path\n",
    "   \n",
    "@dataclass(frozen=True)\n",
    "class DataValidationConfig:\n",
    "    root_dir: Path \n",
    "    STATUS_FILE: str\n",
    "    ALL_REQUIRED_FILES: list\n"
   ]
  }
 ],
 "metadata": {
  "kernelspec": {
   "display_name": "venv",
   "language": "python",
   "name": "python3"
  },
  "language_info": {
   "codemirror_mode": {
    "name": "ipython",
    "version": 3
   },
   "file_extension": ".py",
   "mimetype": "text/x-python",
   "name": "python",
   "nbconvert_exporter": "python",
   "pygments_lexer": "ipython3",
   "version": "3.9.0"
  }
 },
 "nbformat": 4,
 "nbformat_minor": 2
}
