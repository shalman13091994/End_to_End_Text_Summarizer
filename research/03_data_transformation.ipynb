{
 "cells": [
  {
   "cell_type": "markdown",
   "metadata": {},
   "source": [
    "config.yaml\n",
    "\n",
    "```\n",
    "data_transformation:\n",
    "   root_dir: artifacts/data_transformation\n",
    "   data_path: artifacts/data_ingestion/samsun_dataset\n",
    "   tokenizer_name: google/pegasus-cnn_dailymail # to create abstract \n",
    "   ```"
   ]
  },
  {
   "cell_type": "markdown",
   "metadata": {},
   "source": [
    "# ✅ Summary\n",
    "\n",
    "\n",
    "1. Loading a preprocessed text dataset (e.g., dialogues and summaries),\n",
    "\n",
    "2. Tokenizing the input (dialogue) and output (summary) text,\n",
    "\n",
    "3. Converting the dataset into a format suitable for training a transformer model (e.g., BART, T5),\n",
    "\n",
    "4. And saving the processed dataset to disk."
   ]
  },
  {
   "cell_type": "code",
   "execution_count": 1,
   "metadata": {},
   "outputs": [
    {
     "name": "stderr",
     "output_type": "stream",
     "text": [
      "d:\\Ananconda\\envs\\venv\\lib\\site-packages\\tqdm\\auto.py:21: TqdmWarning: IProgress not found. Please update jupyter and ipywidgets. See https://ipywidgets.readthedocs.io/en/stable/user_install.html\n",
      "  from .autonotebook import tqdm as notebook_tqdm\n"
     ]
    },
    {
     "name": "stdout",
     "output_type": "stream",
     "text": [
      "[2025-04-26 11:20:41,101: INFO: config: PyTorch version 2.7.0+cu126 available.]\n",
      "[2025-04-26 11:20:41,105: INFO: config: TensorFlow version 2.19.0 available.]\n"
     ]
    }
   ],
   "source": [
    "from textSummarizer.config import *\n",
    "from textSummarizer.constants import *\n",
    "from textSummarizer.logging import logger\n",
    "from textSummarizer.entity import DataTransformationConfig\n",
    "from textSummarizer.utils.common import read_yaml,create_directories, get_size\n",
    "\n",
    "from transformers import AutoTokenizer\n",
    "from datasets import load_dataset, load_from_disk\n",
    "import os"
   ]
  },
  {
   "cell_type": "code",
   "execution_count": 5,
   "metadata": {},
   "outputs": [],
   "source": [
    "class ConfigurationManager:\n",
    "    def __init__(self, config_path = CONFIG_FILE_PATH, params_path = PARAMS_FILE_PATH):\n",
    "\n",
    "        self.config = read_yaml(config_path)\n",
    "        self.params = read_yaml(PARAMS_FILE_PATH)\n",
    "\n",
    "        create_directories([self.config.artifacts_root]) # mentioning the artificat directory\n",
    "\n",
    "    def get_data_transformation(self) ->DataTransformationConfig:\n",
    "          \n",
    "            # root_dir: Path\n",
    "            # data_path: Path\n",
    "            # tokenizer_name: Path\n",
    "            \n",
    "            config =  self.config.data_transformation\n",
    "\n",
    "\n",
    "            create_directories([config.root_dir]) # to create  the data_transformation directory\n",
    "            data_transformation_config = DataTransformationConfig(\n",
    "                root_dir = config.root_dir,\n",
    "                data_path = config.data_path,\n",
    "                tokenizer_name= config.tokenizer_name\n",
    "            )\n",
    "            \n",
    "            return data_transformation_config\n"
   ]
  },
  {
   "cell_type": "code",
   "execution_count": 20,
   "metadata": {},
   "outputs": [],
   "source": [
    "class DataTransformation:\n",
    "    def __init__(self, config:DataTransformationConfig):\n",
    "      \n",
    "      self.config = config\n",
    "      self.tokenizer = AutoTokenizer.from_pretrained(config.tokenizer_name) #Tokenizes the dialogue field into input tokens\n",
    "\n",
    "    def convert_examples_to_feature(self,example_batch): #we are seggregating dialogue and summary\n",
    "        input_encodings = self.tokenizer(example_batch['dialogue'], max_length=256, truncation=True)\n",
    "        \n",
    "        # target is summary\n",
    "        with self.tokenizer.as_target_tokenizer(): #Makes the tokenizer treat the next text (summary) as target text (important for models like T5).\n",
    "            target_encodings = self.tokenizer(example_batch['summary'], max_length=128, truncation=True)\n",
    "       \n",
    "        return {\n",
    "            'input_ids': input_encodings['input_ids'], # tokenize dialogue\n",
    "            'attention_mask': input_encodings['attention_mask'], #  Attention mask for padding,\n",
    "            'label': target_encodings['input_ids'] #  Tokenized summary (target for training).\n",
    "        } \n",
    "    \n",
    "    # loading the dataset\n",
    "\n",
    "    def convert(self):\n",
    "        samsum_dataset = load_dataset(\"csv\", data_files={\"train\": str(self.config.data_path)})\n",
    "\n",
    "        samsum_dataset_pt = samsum_dataset.map(self.convert_examples_to_feature, batched=True)\n",
    "\n",
    "        samsum_dataset_pt.save_to_disk(os.path.join(self.config.root_dir, 'samsum_dataset')) #under this folder will be creating train folder\n",
    "        "
   ]
  },
  {
   "cell_type": "code",
   "execution_count": 21,
   "metadata": {},
   "outputs": [
    {
     "name": "stdout",
     "output_type": "stream",
     "text": [
      "[2025-04-26 14:14:03,195: INFO: common: created directory at: artifacts]\n"
     ]
    },
    {
     "name": "stdout",
     "output_type": "stream",
     "text": [
      "[2025-04-26 14:14:03,205: INFO: common: created directory at: artifacts/data_transformation]\n",
      "data_transformation_config-- DataTransformationConfig(root_dir='artifacts/data_transformation', data_path='artifacts/data_ingestion/samsum-test.csv', tokenizer_name='google/pegasus-cnn_dailymail')\n"
     ]
    },
    {
     "name": "stderr",
     "output_type": "stream",
     "text": [
      "Map: 100%|██████████| 819/819 [00:00<00:00, 3566.67 examples/s]\n",
      "Saving the dataset (1/1 shards): 100%|██████████| 819/819 [00:00<00:00, 81890.32 examples/s] \n"
     ]
    }
   ],
   "source": [
    "config = ConfigurationManager()\n",
    "data_transformation_config = config.get_data_transformation()\n",
    "print(\"data_transformation_config--\", data_transformation_config)\n",
    "data_transformation = DataTransformation(config=data_transformation_config)\n",
    "data_transformation.convert()"
   ]
  },
  {
   "cell_type": "code",
   "execution_count": null,
   "metadata": {},
   "outputs": [],
   "source": [
    "\n"
   ]
  },
  {
   "cell_type": "code",
   "execution_count": 13,
   "metadata": {},
   "outputs": [
    {
     "name": "stdout",
     "output_type": "stream",
     "text": [
      "d:\\Datascience\\DL\\DL Projects\\End_to_End_Text_Summarizer\\research\n"
     ]
    }
   ],
   "source": [
    "(print(os.getcwd()))"
   ]
  },
  {
   "cell_type": "code",
   "execution_count": null,
   "metadata": {},
   "outputs": [],
   "source": []
  }
 ],
 "metadata": {
  "kernelspec": {
   "display_name": "venv",
   "language": "python",
   "name": "python3"
  },
  "language_info": {
   "codemirror_mode": {
    "name": "ipython",
    "version": 3
   },
   "file_extension": ".py",
   "mimetype": "text/x-python",
   "name": "python",
   "nbconvert_exporter": "python",
   "pygments_lexer": "ipython3",
   "version": "3.9.0"
  }
 },
 "nbformat": 4,
 "nbformat_minor": 2
}
