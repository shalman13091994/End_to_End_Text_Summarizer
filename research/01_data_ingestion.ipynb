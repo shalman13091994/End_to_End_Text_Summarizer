{
 "cells": [
  {
   "cell_type": "code",
   "execution_count": 1,
   "metadata": {},
   "outputs": [],
   "source": [
    "from textSummarizer.constants import *\n",
    "\n",
    "\n",
    "from textSummarizer.utils.common import read_yaml,create_directories, get_size\n",
    "\n",
    "from pathlib import Path\n",
    "from dataclasses import dataclass\n",
    "from textSummarizer.entity import (DataIngestionConfig\n",
    "                                 #   DataValidationConfig,\n",
    "                                #    DataTransformationConfig,\n",
    "                                #    ModelTrainerConfig,\n",
    "                                #    ModelEvaluationConfig\n",
    "                                )"
   ]
  },
  {
   "cell_type": "code",
   "execution_count": 5,
   "metadata": {},
   "outputs": [],
   "source": [
    "from textSummarizer.entity import DataIngestionConfig\n",
    "\n",
    "class ConfigurationManager:\n",
    "    def __init__(self, \n",
    "        config_filepath = CONFIG_FILE_PATH,\n",
    "        params_filepath = PARAMS_FILE_PATH):\n",
    "\n",
    "        self.config = read_yaml(config_filepath)\n",
    "        self.params = read_yaml(params_filepath)\n",
    "\n",
    "        create_directories([self.config.artifacts_root]) #from config.yaml\n",
    "\n",
    "\n",
    "    def get_data_ingestion_config(self) -> DataIngestionConfig:\n",
    "\n",
    "        # calling the DataIngestionConfig class and its variables here\n",
    "           \n",
    "        config = self.config.data_ingestion #from config.yaml\n",
    "\n",
    "        create_directories([config.root_dir]) #from config.yaml\n",
    "\n",
    "        data_ingestion_config = DataIngestionConfig(\n",
    "\n",
    "            root_dir=config.root_dir,\n",
    "            source_URL=config.source_URL,\n",
    "            local_data_file=config.local_data_file,\n",
    "            unzip_dir=config.unzip_dir\n",
    "        )\n",
    "\n",
    "        return data_ingestion_config\n",
    "\n",
    " "
   ]
  },
  {
   "cell_type": "code",
   "execution_count": 19,
   "metadata": {},
   "outputs": [],
   "source": [
    "import os, gdown\n",
    "\n",
    "import urllib.request as request\n",
    "\n",
    "import zipfile\n",
    "\n",
    "class data_ingestion:\n",
    "    def __init__(self, config: DataIngestionConfig):\n",
    "\n",
    "        self.config = config\n",
    "    \n",
    "    \n",
    "    \n",
    "    # def download_file(self):\n",
    "    #     if not os.path.exists(self.config.local_data_file):\n",
    "    #         filename, headers = request.urlretrieve(\n",
    "    #             url = self.config.source_URL,\n",
    "    #             filename = self.config.local_data_file\n",
    "    #         )\n",
    "    #         print(f\"{filename} download! with following info: \\n{headers}\")\n",
    "    #     else:\n",
    "    #         print(f\"File already exists of size: {get_size(Path(self.config.local_data_file))}\")  \n",
    "\n",
    "    \n",
    "    # to download from gdrive\n",
    "    \n",
    "    def download_file(self):\n",
    "        if not os.path.exists(self.config.local_data_file):\n",
    "            gdown.download(url=self.config.source_URL, output=self.config.local_data_file, quiet=False, fuzzy=True)\n",
    "            print(f\"Downloaded to: {self.config.local_data_file}\")\n",
    "        else:\n",
    "            print(f\"File already exists: {self.config.local_data_file}\")\n",
    "\n",
    "\n",
    "\n",
    "    def extract_zip_file(self):\n",
    "        if self.config.local_data_file.endswith(\".zip\"):\n",
    "            unzip_path = self.config.unzip_dir\n",
    "            os.makedirs(unzip_path, exist_ok=True)\n",
    "            with zipfile.ZipFile(self.config.local_data_file, 'r') as zip_ref:\n",
    "                zip_ref.extractall(unzip_path)\n",
    "            print(f\"Extracted zip file to: {unzip_path}\")\n",
    "        else:\n",
    "            print(\"The provided file is not a zip file. Skipping extraction.\")\n",
    "\n",
    "\n",
    "        "
   ]
  },
  {
   "cell_type": "code",
   "execution_count": 23,
   "metadata": {},
   "outputs": [
    {
     "name": "stdout",
     "output_type": "stream",
     "text": [
      "[2025-04-25 19:29:18,339: INFO: common: created directory at: artifacts]\n",
      "[2025-04-25 19:29:18,340: INFO: common: created directory at: artifacts/data_ingestion]\n"
     ]
    },
    {
     "name": "stdout",
     "output_type": "stream",
     "text": [
      "data_ingestion_config--- DataIngestionConfig(root_dir='artifacts/data_ingestion', source_URL='https://drive.google.com/uc?id=1VyhJ8QPXHMpHuCJfDyXpi-Id5C2lBY-Z', local_data_file='artifacts/data_ingestion/data.zip', unzip_dir='artifacts/data_ingestion')\n"
     ]
    },
    {
     "name": "stderr",
     "output_type": "stream",
     "text": [
      "Downloading...\n",
      "From: https://drive.google.com/uc?id=1VyhJ8QPXHMpHuCJfDyXpi-Id5C2lBY-Z\n",
      "To: d:\\Datascience\\DL\\DL Projects\\End_to_End_Text_Summarizer\\research\\artifacts\\data_ingestion\\data.zip\n",
      "100%|██████████| 206k/206k [00:00<00:00, 1.73MB/s]"
     ]
    },
    {
     "name": "stdout",
     "output_type": "stream",
     "text": [
      "Downloaded to: artifacts/data_ingestion/data.zip\n",
      "Extracted zip file to: artifacts/data_ingestion\n"
     ]
    },
    {
     "name": "stderr",
     "output_type": "stream",
     "text": [
      "\n"
     ]
    }
   ],
   "source": [
    "config_manager = ConfigurationManager()\n",
    "data_ingestion_config = config_manager.get_data_ingestion_config()\n",
    "print('data_ingestion_config---', data_ingestion_config)\n",
    "\n",
    "data_ingest = data_ingestion(config=data_ingestion_config)\n",
    "data_ingest.download_file()\n",
    "data_ingest.extract_zip_file()"
   ]
  },
  {
   "cell_type": "code",
   "execution_count": null,
   "metadata": {},
   "outputs": [],
   "source": []
  }
 ],
 "metadata": {
  "kernelspec": {
   "display_name": "venv",
   "language": "python",
   "name": "python3"
  },
  "language_info": {
   "codemirror_mode": {
    "name": "ipython",
    "version": 3
   },
   "file_extension": ".py",
   "mimetype": "text/x-python",
   "name": "python",
   "nbconvert_exporter": "python",
   "pygments_lexer": "ipython3",
   "version": "3.9.0"
  }
 },
 "nbformat": 4,
 "nbformat_minor": 2
}
